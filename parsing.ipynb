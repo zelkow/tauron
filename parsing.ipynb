{
 "cells": [
  {
   "cell_type": "code",
   "execution_count": null,
   "metadata": {},
   "outputs": [],
   "source": [
    "\n",
    "import pandas as pd \n",
    "import seaborn as sns\n",
    "\n",
    "\n",
    "file_dir = \"./data/\"\n",
    "file_name = \"energia.txt\"\n",
    "file = file_dir + file_name\n",
    "\n",
    "column_names = [\"data_poprzedniego_odczytu\",\"poprzedni_odczyt\",\"type\",\"obecna_data\",\"a\",\"b\",\"c\",\"d\",\"e\",\"unit_cost\", \"g\"]\n",
    "\n",
    "print(\"Loading :\", file)\n",
    "dt = pd.read_csv(file,sep=\" \", encoding='iso-8859-2', names=column_names,parse_dates=[\"data_poprzedniego_odczytu\",\"obecna_data\"])\n",
    "dt\n"
   ]
  },
  {
   "cell_type": "code",
   "execution_count": null,
   "metadata": {},
   "outputs": [],
   "source": [
    "dt.info()"
   ]
  },
  {
   "cell_type": "code",
   "execution_count": null,
   "metadata": {},
   "outputs": [],
   "source": [
    "dt.tail(5)"
   ]
  },
  {
   "cell_type": "code",
   "execution_count": null,
   "metadata": {},
   "outputs": [],
   "source": [
    "\n",
    "X = dt['obecna_data']\n",
    "Y_use = dt['a']\n",
    "Y_unit_cost = dt['unit_cost']\n",
    "X"
   ]
  },
  {
   "cell_type": "code",
   "execution_count": null,
   "metadata": {},
   "outputs": [],
   "source": [
    "ax = sns.regplot(\n",
    "    x=X, y=Y_use,\n",
    "    fit_reg=False, ci=None, truncate=True, data=dt)\n",
    "ax.figure.set_size_inches(10, 8)"
   ]
  },
  {
   "cell_type": "code",
   "execution_count": null,
   "metadata": {},
   "outputs": [],
   "source": [
    "ax = sns.regplot(\n",
    "    x=X, y=Y_unit_cost,\n",
    "    fit_reg=False, ci=None, truncate=True, data=dt)\n",
    "ax.figure.set_size_inches(10, 8)\n",
    "\n"
   ]
  },
  {
   "cell_type": "code",
   "execution_count": null,
   "metadata": {},
   "outputs": [],
   "source": [
    "|"
   ]
  }
 ],
 "metadata": {
  "interpreter": {
   "hash": "916dbcbb3f70747c44a77c7bcd40155683ae19c65e1c03b4aa3499c5328201f1"
  },
  "kernelspec": {
   "display_name": "Python 3.9.7 64-bit",
   "language": "python",
   "name": "python3"
  },
  "language_info": {
   "codemirror_mode": {
    "name": "ipython",
    "version": 3
   },
   "file_extension": ".py",
   "mimetype": "text/x-python",
   "name": "python",
   "nbconvert_exporter": "python",
   "pygments_lexer": "ipython3",
   "version": "3.9.7"
  },
  "orig_nbformat": 4
 },
 "nbformat": 4,
 "nbformat_minor": 2
}
